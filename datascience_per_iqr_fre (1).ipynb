{
 "cells": [
  {
   "cell_type": "code",
   "execution_count": null,
   "id": "50f67581-d3b2-4738-b73f-97ca34ab2850",
   "metadata": {},
   "outputs": [],
   "source": [
    "import pandas as pd"
   ]
  },
  {
   "cell_type": "code",
   "execution_count": null,
   "id": "76bea342-abfc-4fa8-8b28-ccd49710d28c",
   "metadata": {},
   "outputs": [],
   "source": [
    "dataset=pd.read_csv(\"PrePlacement.csv\")\n",
    "dataset"
   ]
  },
  {
   "cell_type": "code",
   "execution_count": null,
   "id": "f6b6eed2-51e7-428b-9f5a-76d50579cf1b",
   "metadata": {},
   "outputs": [],
   "source": [
    "dataset.info()"
   ]
  },
  {
   "cell_type": "code",
   "execution_count": null,
   "id": "53d42959-51f4-4a5e-a319-939d07ba5502",
   "metadata": {},
   "outputs": [],
   "source": [
    "Quan=[\"ssc_p\",\"hsc_p\",\"etest_p\",\"degree_P\",\"mba_p\"]\n",
    "Qual=[\"gender\",\"hsc_s\",\"ssc_b\",\"degree_t\"]\n",
    "dir(dataset)"
   ]
  },
  {
   "cell_type": "code",
   "execution_count": null,
   "id": "4c7c232b-2896-45c8-b979-3f3936137c1a",
   "metadata": {},
   "outputs": [],
   "source": [
    "dataset.dtypes"
   ]
  },
  {
   "cell_type": "code",
   "execution_count": null,
   "id": "02b522bc-a561-421b-834a-e39be8aec623",
   "metadata": {},
   "outputs": [],
   "source": [
    "dataset['ssc_p'].dtypes"
   ]
  },
  {
   "cell_type": "code",
   "execution_count": null,
   "id": "d767d23e-4e46-4e4d-91b1-4d3e471342d0",
   "metadata": {},
   "outputs": [],
   "source": [
    "for columnName in dataset.columns:\n",
    "    print(columnName)"
   ]
  },
  {
   "cell_type": "code",
   "execution_count": null,
   "id": "93920752-e529-4400-9489-77f6f34e47ef",
   "metadata": {},
   "outputs": [],
   "source": [
    "if(dataset['ssc_p'].dtype=='o'):\n",
    "    print('Qual')\n",
    "else:\n",
    "    print('Quan')"
   ]
  },
  {
   "cell_type": "code",
   "execution_count": null,
   "id": "0f72ccd5-b0a8-42ba-9bab-eb554845414a",
   "metadata": {},
   "outputs": [],
   "source": [
    "quan=[]\n",
    "qual=[]\n",
    "for columnName in dataset.columns:\n",
    "    if(dataset[columnName].dtype=='O'):\n",
    "        qual.append(columnName)\n",
    "    else:\n",
    "        quan.append(columnName)"
   ]
  },
  {
   "cell_type": "code",
   "execution_count": null,
   "id": "fe54c49f-49bb-47a8-9eba-5c89c6253f2e",
   "metadata": {},
   "outputs": [],
   "source": [
    "quan"
   ]
  },
  {
   "cell_type": "code",
   "execution_count": null,
   "id": "ed1b9970-4bab-478f-b278-9ece73fafed6",
   "metadata": {},
   "outputs": [],
   "source": [
    "qual"
   ]
  },
  {
   "cell_type": "code",
   "execution_count": null,
   "id": "bca3de55-dcd6-4ab2-9dc9-4357dba7348e",
   "metadata": {},
   "outputs": [],
   "source": [
    "def quanQual(dataset):\n",
    "    quan=[]\n",
    "    qual=[]\n",
    "    for columnName in dataset.columns:\n",
    "        if(dataset[columnName].dtype=='O'):\n",
    "            qual.append(columnName)\n",
    "        else:\n",
    "            quan.append(columnName)\n",
    "    return quan,qual\n",
    "quan,qual=quanQual(dataset)"
   ]
  },
  {
   "cell_type": "code",
   "execution_count": null,
   "id": "c6e379c5-c4be-41cc-a90b-8f044971321b",
   "metadata": {},
   "outputs": [],
   "source": [
    "quan"
   ]
  },
  {
   "cell_type": "code",
   "execution_count": null,
   "id": "6351ad9e-6101-449b-a9bf-842e8af59924",
   "metadata": {},
   "outputs": [],
   "source": [
    "qual"
   ]
  },
  {
   "cell_type": "code",
   "execution_count": null,
   "id": "79dee8e6-85e9-47c2-a44a-87e297e3d12f",
   "metadata": {},
   "outputs": [],
   "source": [
    "class Univariate():\n",
    "    def quanQual(dataset):\n",
    "        quan=[]\n",
    "        qual=[]\n",
    "        for columnName in dataset.columns:\n",
    "            if(dataset[columnName].dtype=='O'):\n",
    "                qual.append(columnName)\n",
    "            else:\n",
    "                quan.append(columnName)\n",
    "        return quan,qual\n",
    "quan,qual=quanQual(dataset)\n"
   ]
  },
  {
   "cell_type": "code",
   "execution_count": null,
   "id": "984aaf38-2bc7-4b6f-a722-71081b17dfa9",
   "metadata": {},
   "outputs": [],
   "source": [
    "quan"
   ]
  },
  {
   "cell_type": "code",
   "execution_count": null,
   "id": "3ce72d12-6757-4355-916b-6a8a1beb83ec",
   "metadata": {},
   "outputs": [],
   "source": [
    "qual"
   ]
  },
  {
   "cell_type": "code",
   "execution_count": null,
   "id": "4bc827d1-50d4-49a8-b242-ecfe2e2f1ae1",
   "metadata": {},
   "outputs": [],
   "source": [
    "dataset.describe()"
   ]
  },
  {
   "cell_type": "code",
   "execution_count": null,
   "id": "0c1aaed2-c3d0-4cef-95b2-e4e6ba0d6b9d",
   "metadata": {},
   "outputs": [],
   "source": [
    "import numpy as np"
   ]
  },
  {
   "cell_type": "code",
   "execution_count": null,
   "id": "1c611a53-3c74-4bba-97d4-ad89f5228c74",
   "metadata": {},
   "outputs": [],
   "source": [
    "np.percentile(dataset[\"ssc_p\"],100)"
   ]
  },
  {
   "cell_type": "code",
   "execution_count": null,
   "id": "e9c5e40d-0a2d-4c05-8622-9c7a9c8d7aa9",
   "metadata": {},
   "outputs": [],
   "source": [
    "descriptive = pd.DataFrame(index=[\"Mean\", \"Median\", \"Mode\",\"Q1:25%\",\"Q2:50%\",\"Q3:75%\",\"99%\",\"Q4:100%\",\"IQR\",\"1.5rule\",\"lesser\",\"greader\",\"min\",\"max\"], columns=quan)\n",
    "\n",
    "for columnName in quan:\n",
    "    descriptive.loc[\"Mean\", columnName] = dataset[columnName].mean()\n",
    "    descriptive.loc[\"Median\", columnName] = dataset[columnName].median()  # Add median calculation\n",
    "    descriptive.loc[\"Mode\", columnName] = dataset[columnName].mode().iloc[0]\n",
    "    descriptive.loc[\"Q1:25%\",columnName]=dataset.describe()[columnName][\"25%\"]\n",
    "    descriptive.loc[\"Q2:50%\",columnName]=dataset.describe()[columnName][\"50%\"]\n",
    "    descriptive.loc[\"Q3:75%\",columnName]=dataset.describe()[columnName][\"75%\"]\n",
    "    descriptive.loc[\"99%\",columnName]=np.percentile(dataset[columnName],99)\n",
    "    descriptive.loc[\"Q4:100%\",columnName]=dataset.describe()[columnName][\"max\"]\n",
    "    descriptive.loc[\"IQR\", columnName] = descriptive[columnName][\"Q3:75%\"] - descriptive[columnName][\"Q1:25%\"]\n",
    "    descriptive.loc[\"1.5rule\",columnName]=1.5*descriptive[columnName][\"IQR\"]\n",
    "    descriptive.loc[\"lesser\",columnName]=descriptive[columnName][\"Q1:25%\"] - descriptive[columnName][\"1.5rule\"]\n",
    "    descriptive.loc[\"greader\",columnName]=descriptive[columnName][\"Q3:75%\"] + descriptive[columnName][\"1.5rule\"]\n",
    "    descriptive.loc[\"min\",columnName]=dataset[columnName].min()\n",
    "    descriptive.loc[\"max\",columnName]=dataset[columnName].max()\n",
    "descriptive  "
   ]
  },
  {
   "cell_type": "code",
   "execution_count": null,
   "id": "e06f860a-068d-469c-aa01-a9489ce87a61",
   "metadata": {},
   "outputs": [],
   "source": [
    "descriptive[\"hsc_p\"][\"min\"]<descriptive[\"hsc_p\"][\"lesser\"]"
   ]
  },
  {
   "cell_type": "code",
   "execution_count": null,
   "id": "f9be540c-087f-485d-b176-4b40b04ffd4e",
   "metadata": {},
   "outputs": [],
   "source": [
    "lesser=[]\n",
    "greader=[]\n",
    "for columnName in quan:\n",
    "    if(descriptive[columnName][\"min\"]<descriptive[columnName][\"lesser\"]):\n",
    "        lesser.append(columnName)\n",
    "    if(descriptive[columnName][\"max\"]>descriptive[columnName][\"greader\"]):\n",
    "        greader.append(columnName)"
   ]
  },
  {
   "cell_type": "code",
   "execution_count": null,
   "id": "f7f60357-9fe8-4f6f-a533-201c20249b10",
   "metadata": {},
   "outputs": [],
   "source": [
    "lesser"
   ]
  },
  {
   "cell_type": "code",
   "execution_count": null,
   "id": "6eafe9d1-c885-458e-9813-f9515b3b549b",
   "metadata": {},
   "outputs": [],
   "source": [
    "greader"
   ]
  },
  {
   "cell_type": "code",
   "execution_count": null,
   "id": "303ba08e-c22f-431f-9726-34036d7a69ce",
   "metadata": {},
   "outputs": [],
   "source": [
    "for columnName in lesser:\n",
    "    dataset[columnName][dataset[columnName]<descriptive[columnName][\"lesser\"]]=descriptive[columnName][\"lesser\"]\n",
    "for columnName in greader:\n",
    "    dataset[columnName][dataset[columnName]>descriptive[columnName][\"greader\"]]=descriptive[columnName][\"greader\"]"
   ]
  },
  {
   "cell_type": "code",
   "execution_count": null,
   "id": "29df3fb6-a872-4289-b228-a64a23f1725c",
   "metadata": {},
   "outputs": [],
   "source": [
    "lesser"
   ]
  },
  {
   "cell_type": "code",
   "execution_count": null,
   "id": "a57c9b07-c514-4467-ba25-c49c0d8396d8",
   "metadata": {},
   "outputs": [],
   "source": [
    "greader"
   ]
  },
  {
   "cell_type": "code",
   "execution_count": null,
   "id": "ff5a903d-0567-4c62-b45a-c19ff4d59088",
   "metadata": {},
   "outputs": [],
   "source": [
    "freqTable=pd.DataFrame(columns=['unique_value','frequency','relateive_frequency','cumsum'])\n",
    "freqTable"
   ]
  },
  {
   "cell_type": "code",
   "execution_count": null,
   "id": "4eebc61c-969c-4d17-ba15-198aa26581b7",
   "metadata": {},
   "outputs": [],
   "source": [
    "freqTable = pd.DataFrame(columns=['unique_value', 'frequency', 'relative_frequency', 'cumsum'])\n",
    "\n",
    "freqTable['frequency'] = dataset[columnName].value_counts().values\n",
    "freqTable['unique_value'] = dataset[columnName].value_counts().index\n",
    "freqTable['relative_frequency'] = (freqTable['frequency'] / len(dataset)) # Corrected denominator\n",
    "freqTable['cumsum'] = freqTable['relative_frequency'].cumsum()\n",
    "         "
   ]
  },
  {
   "cell_type": "code",
   "execution_count": null,
   "id": "87e7faf1-023c-4a4f-b663-b16c27119780",
   "metadata": {},
   "outputs": [],
   "source": [
    "freqTable"
   ]
  },
  {
   "cell_type": "code",
   "execution_count": null,
   "id": "9b817ec5-aac3-4495-8850-773f7adb4be6",
   "metadata": {},
   "outputs": [],
   "source": [
    "def freqTable(columnName, dataset):\n",
    "    freqTable = pd.DataFrame(columns=['unique_value', 'frequency', 'relative_frequency', 'cumsum'])\n",
    "\n",
    "    freqTable['frequency'] = dataset[columnName].value_counts().values\n",
    "    freqTable['unique_value'] = dataset[columnName].value_counts().index\n",
    "\n",
    "    freqTable['relative_frequency'] = (freqTable['frequency'] / len(dataset)) \n",
    "    freqTable['cumsum'] = freqTable['relative_frequency'].cumsum()\n",
    "\n",
    "    return freqTable\n",
    "\n"
   ]
  },
  {
   "cell_type": "code",
   "execution_count": null,
   "id": "a43b8330-d0ad-4e6e-b7c3-be998354a7ce",
   "metadata": {},
   "outputs": [],
   "source": [
    " freqTable(\"hsc_p\",dataset)"
   ]
  },
  {
   "cell_type": "code",
   "execution_count": null,
   "id": "7b9548bd-736a-4e3e-87ac-09fede8bd598",
   "metadata": {},
   "outputs": [],
   "source": [
    "def univariate(dataset,quan):\n",
    "    descriptive = pd.DataFrame(index=[\"Mean\", \"Median\", \"Mode\",\"Q1:25%\",\"Q2:50%\",\"Q3:75%\",\"99%\",\"Q4:100%\",\"IQR\",\"1.5rule\",\"lesser\",\"greader\",\"min\",\"max\"], columns=quan)\n",
    "\n",
    "    for columnName in quan:\n",
    "        descriptive.loc[\"Mean\", columnName] = dataset[columnName].mean()\n",
    "        descriptive.loc[\"Median\", columnName] = dataset[columnName].median()  # Add median calculation\n",
    "        descriptive.loc[\"Mode\", columnName] = dataset[columnName].mode().iloc[0]\n",
    "        descriptive.loc[\"Q1:25%\",columnName]=dataset.describe()[columnName][\"25%\"]\n",
    "        descriptive.loc[\"Q2:50%\",columnName]=dataset.describe()[columnName][\"50%\"]\n",
    "        descriptive.loc[\"Q3:75%\",columnName]=dataset.describe()[columnName][\"75%\"]\n",
    "        descriptive.loc[\"99%\",columnName]=np.percentile(dataset[columnName],99)\n",
    "        descriptive.loc[\"Q4:100%\",columnName]=dataset.describe()[columnName][\"max\"]\n",
    "        descriptive.loc[\"IQR\", columnName] = descriptive[columnName][\"Q3:75%\"] - descriptive[columnName][\"Q1:25%\"]\n",
    "        descriptive.loc[\"1.5rule\",columnName]=1.5*descriptive[columnName][\"IQR\"]\n",
    "        descriptive.loc[\"lesser\",columnName]=descriptive[columnName][\"Q1:25%\"] - descriptive[columnName][\"1.5rule\"]\n",
    "        descriptive.loc[\"greader\",columnName]=descriptive[columnName][\"Q3:75%\"] + descriptive[columnName][\"1.5rule\"]\n",
    "        descriptive.loc[\"min\",columnName]=dataset[columnName].min()\n",
    "        descriptive.loc[\"max\",columnName]=dataset[columnName].max()\n",
    "    return descriptive"
   ]
  },
  {
   "cell_type": "code",
   "execution_count": null,
   "id": "a0a6291c-bffa-4a5a-ac77-c68d92a881d4",
   "metadata": {},
   "outputs": [],
   "source": [
    "univariate(dataset,quan)"
   ]
  },
  {
   "cell_type": "code",
   "execution_count": null,
   "id": "69132665-5d13-46d0-90bc-873d61df3e0e",
   "metadata": {},
   "outputs": [],
   "source": [
    "def outlier(lesser,greader):\n",
    "    lesser=[]\n",
    "    greader=[]\n",
    "    for columnName in quan:\n",
    "        if(descriptive[columnName][\"min\"]<descriptive[columnName][\"lesser\"]):\n",
    "            lesser.append(columnName)\n",
    "        if(descriptive[columnName][\"max\"]>descriptive[columnName][\"greader\"]):\n",
    "            greader.append(columnName)\n",
    "    return lesser,greader"
   ]
  },
  {
   "cell_type": "code",
   "execution_count": null,
   "id": "6f6b7ff7-04dc-4b66-8ebc-095a6a31f459",
   "metadata": {},
   "outputs": [],
   "source": [
    "outlier(lesser,greader)"
   ]
  },
  {
   "cell_type": "code",
   "execution_count": null,
   "id": "e9400a13-87dc-47ea-9a10-b335be5b646a",
   "metadata": {},
   "outputs": [],
   "source": [
    "def lesserGreder(lesser,greader):\n",
    "    for columnName in lesser:\n",
    "        dataset[columnName][dataset[columnName]<descriptive[columnName][\"lesser\"]]=descriptive[columnName][\"lesser\"]\n",
    "    for columnName in greader:\n",
    "        dataset[columnName][dataset[columnName]>descriptive[columnName][\"greader\"]]=descriptive[columnName][\"greader\"]\n",
    "    return lesser,greader"
   ]
  },
  {
   "cell_type": "code",
   "execution_count": null,
   "id": "70910c43-638a-499d-a663-05b65aa321ca",
   "metadata": {},
   "outputs": [],
   "source": [
    "lesserGreder(lesser,greader)"
   ]
  },
  {
   "cell_type": "code",
   "execution_count": null,
   "id": "34c5f226-973f-4eec-9483-44a3fb5db08b",
   "metadata": {},
   "outputs": [],
   "source": [
    "import pandas as pd\n",
    "\n",
    "def freqTable(columnName, dataset):\n",
    "    freqTable = pd.DataFrame(columns=['unique_value', 'frequency', 'relative_frequency', 'cumsum'])\n",
    "\n",
    "    freqTable['frequency'] = dataset[columnName].value_counts().values\n",
    "    freqTable['unique_value'] = dataset[columnName].value_counts().index\n",
    "\n",
    "    freqTable['relative_frequency'] = (freqTable['frequency'] / len(dataset)) # Corrected denominator\n",
    "    freqTable['cumsum'] = freqTable['relative_frequency'].cumsum()\n",
    "\n",
    "    return freqTable\n",
    "\n"
   ]
  },
  {
   "cell_type": "code",
   "execution_count": null,
   "id": "2ecfe97a-3a28-4994-a77d-3155dd849b47",
   "metadata": {},
   "outputs": [],
   "source": [
    "freqTable(columnName, dataset)"
   ]
  },
  {
   "cell_type": "code",
   "execution_count": null,
   "id": "36fb4660-8657-4007-9274-c6f07d43d150",
   "metadata": {},
   "outputs": [],
   "source": []
  }
 ],
 "metadata": {
  "kernelspec": {
   "display_name": "Python 3 (ipykernel)",
   "language": "python",
   "name": "python3"
  },
  "language_info": {
   "codemirror_mode": {
    "name": "ipython",
    "version": 3
   },
   "file_extension": ".py",
   "mimetype": "text/x-python",
   "name": "python",
   "nbconvert_exporter": "python",
   "pygments_lexer": "ipython3",
   "version": "3.11.5"
  }
 },
 "nbformat": 4,
 "nbformat_minor": 5
}
